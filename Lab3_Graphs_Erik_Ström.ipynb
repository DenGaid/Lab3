{
 "cells": [
  {
   "attachments": {},
   "cell_type": "markdown",
   "id": "fb8c9e6c",
   "metadata": {},
   "source": [
    "# Group Members\n",
    "Erik Ström"
   ]
  },
  {
   "cell_type": "code",
   "execution_count": 1,
   "id": "15121c9a",
   "metadata": {},
   "outputs": [],
   "source": [
    "#%pip install networkx # if you want to run this notebook, you might need to install networkx"
   ]
  },
  {
   "attachments": {},
   "cell_type": "markdown",
   "id": "a5a7b5d5",
   "metadata": {},
   "source": [
    "# Task 1\n",
    "## 1)\n",
    "Since visualizing graphs requires additional packages either way, and is fairly complicated if done from scratch (e.g. using some graphics package), we use the networkx package to facilitate defining our basic graphs as well as visualizing them.  "
   ]
  },
  {
   "cell_type": "code",
   "execution_count": 99,
   "id": "ad5a8a53",
   "metadata": {},
   "outputs": [],
   "source": [
    "import networkx as nx\n",
    "import matplotlib.pyplot as plt\n",
    "import random "
   ]
  },
  {
   "cell_type": "code",
   "execution_count": 253,
   "id": "d8896f2b",
   "metadata": {},
   "outputs": [
    {
     "data": {
      "image/png": "[encoded data removed]",
      "text/plain": [
       "<Figure size 432x288 with 1 Axes>"
      ]
     },
     "metadata": {},
     "output_type": "display_data"
    }
   ],
   "source": [
    "path = \"DisCalSn.net\"\n",
    "\n",
    "G = nx.Graph(nx.read_pajek(path, encoding='UTF-8'))\n",
    "\n",
    "nx.draw_networkx(G)\n",
    "plt.show()"
   ]
  },
  {
   "attachments": {},
   "cell_type": "markdown",
   "id": "772ecc62",
   "metadata": {},
   "source": [
    "## 3)\n",
    "Though there are many ways we could choose to view the communities empirically, there seems to be two reasonable choices. \n",
    "\n",
    "In both cases, [a1, m3, m6] should probably be a community, and whether or not we should consider the second component as a community or split it up into different ones is not cleaer. In our case, we consider the community division where [m4, m5, m7, a3, pm], [m1, m2, a2] are separate communities. "
   ]
  },
  {
   "attachments": {},
   "cell_type": "markdown",
   "id": "3856c2fa",
   "metadata": {},
   "source": [
    "## 4) \n",
    "To compute the modularity of this cluster configuration, we write a simple function to calculate it, since it is probably faster than doing the arithmetic.\n",
    "\n",
    "We essentially only need a way of defining the kronecker delta function as well as our communities and we can use the graph properties to calculate the final modularity."
   ]
  },
  {
   "attachments": {},
   "cell_type": "markdown",
   "id": "3933f6d5",
   "metadata": {},
   "source": [
    "The community is defined by a string containing all the different nodes in each community"
   ]
  },
  {
   "cell_type": "code",
   "execution_count": 263,
   "id": "7d604d5b",
   "metadata": {},
   "outputs": [],
   "source": [
    "def kronecker_delta_func(node_i, node_j, community_mapping):\n",
    "    '''\n",
    "    Param node_i: A node \n",
    "    param node_j: A node\n",
    "    param community_mapping: A list of strings defining the different communities\n",
    "    \n",
    "    This function returns 1 if node i and j are in the same community,\n",
    "    and 0 otherwise\n",
    "    '''\n",
    "    for community in community_mapping:\n",
    "        if node_i in community and node_j in community:\n",
    "            return True\n",
    "    return False\n",
    "    \n",
    "def graph_modularity(G, community_mapping):\n",
    "    '''\n",
    "    param G: A graph\n",
    "    param community_mapping: A list of strings defining the different communities\n",
    "    '''\n",
    "    n_nodes = G.number_of_nodes()\n",
    "    A = nx.to_numpy_array(G) # returns the adjacency matrix of G as a numpy array\n",
    "    m = G.number_of_edges() # multiply by 2\n",
    "    nodes = list(G.nodes()) # so we can send our node labels to kronecker delta func\n",
    "\n",
    "    modularity = 0\n",
    "    \n",
    "    for i in range(n_nodes):\n",
    "        for j in range(n_nodes):\n",
    "            modularity += (((A[i][j] > 0) - (G.degree[nodes[i]] * G.degree[nodes[j]]) / (2 * m))) * kronecker_delta_func(nodes[i], nodes[j], community_mapping)\n",
    "    \n",
    "    return modularity / (2 * m)"
   ]
  },
  {
   "cell_type": "code",
   "execution_count": 265,
   "id": "3cee5087",
   "metadata": {},
   "outputs": [
    {
     "name": "stdout",
     "output_type": "stream",
     "text": [
      "our modularity calculations: 0.5123456790123461\n",
      "built-in modularity calculations: 0.5440625\n"
     ]
    }
   ],
   "source": [
    "community_mapping = [\"a1, m3, m6\", \"m4, m5, m7, a3, pm\", \"m1, m2, a2\"]\n",
    "nodes = list(G.nodes())\n",
    "\n",
    "modularity = graph_modularity(G, community_mapping)\n",
    "\n",
    "print(f\"our modularity calculations: {modularity}\")\n",
    "print(f\"built-in modularity calculations: {nx.community.modularity(G, [{'a1', 'm3', 'm6'}, {'m4', 'm5', 'm7', 'a3', 'pm'}, {'m1', 'm2', 'a2'}])}\")"
   ]
  },
  {
   "attachments": {},
   "cell_type": "markdown",
   "id": "78504df1",
   "metadata": {},
   "source": [
    "Comparing to networkx's implementation, the result seems fairly close, this might be due to some small error in the calculations or, or some smaller differences in implementation.\n",
    "\n",
    "In any case, we get a positive modularity as expected since there seems to be some clear community formation."
   ]
  },
  {
   "attachments": {},
   "cell_type": "markdown",
   "id": "0cad0fb0",
   "metadata": {},
   "source": [
    "# Task 2\n",
    "For task two, we start by writing methods for generating an erdos-renyl graph, as well as for checking if a graph has an isolated component or not."
   ]
  },
  {
   "cell_type": "code",
   "execution_count": 24,
   "id": "ef9660f0",
   "metadata": {},
   "outputs": [],
   "source": [
    "def erdos_renyl_rnd_graph(n, p):\n",
    "    '''\n",
    "    pram n: number of vertices\n",
    "    param p: probability that any two nodes \n",
    "    are connected by an edge\n",
    "    This function returns a an erdos-renyl graph G(n, p)\n",
    "    '''\n",
    "    G = nx.Graph() # Graph object that is to contain our edges and vertices\n",
    "\n",
    "    # we start by adding n nodes\n",
    "    for i in range(n):\n",
    "        G.add_node(i)\n",
    "\n",
    "    # iterate over all combinations of \n",
    "    # nodes, assuming (i,j) = (j, i), in G\n",
    "    # and adds an edge with probability p\n",
    "    for i in range(n):\n",
    "        for j in range(i+1, n):\n",
    "            if random.random() < p: # random.random() returns a value in [0, 1) randomly\n",
    "                G.add_edge(i, j)\n",
    "    return G\n",
    "\n",
    "def has_isolated_component(G):\n",
    "    '''\n",
    "    param G: graph\n",
    "    Returns true if G has an isolated component,\n",
    "    otherwise false\n",
    "    '''\n",
    "    for node in G.nodes():\n",
    "        if len(G.edges(node)) == 0:\n",
    "            return True\n",
    "    return False"
   ]
  },
  {
   "attachments": {},
   "cell_type": "markdown",
   "id": "50292e43",
   "metadata": {},
   "source": [
    "We then generate a large number of graphs and count the fraction of graphs with connected components, where $p$ differs by some small $\\epsilon$"
   ]
  },
  {
   "cell_type": "code",
   "execution_count": 281,
   "id": "e9dd2cee",
   "metadata": {
    "scrolled": true
   },
   "outputs": [
    {
     "name": "stdout",
     "output_type": "stream",
     "text": [
      "p < ln(n) / n \n",
      "% of G with isolated comp: 0.98789\n",
      "p > ln(n) / n\n",
      "% of G with isolated comp: 0.13502\n"
     ]
    }
   ],
   "source": [
    "n = 15\n",
    "epsilon = 1e-1\n",
    "n_simulations = 100000\n",
    "\n",
    "p_1 = (np.log(n) / n) - epsilon\n",
    "p_2 = (np.log(n) / n) + epsilon\n",
    "\n",
    "G_1_has_isolated_component_count = 0\n",
    "G_2_has_isolated_component_count = 0\n",
    "# here we simulate a number of random graphs\n",
    "# and count the fraction of graphs with an isolated component\n",
    "# for p < ln n / n\n",
    "for s in range(n_simulations):\n",
    "    G_1 = erdos_renyl_rnd_graph(n, p_1)\n",
    "    G_2 = erdos_renyl_rnd_graph(n, p_2)\n",
    "\n",
    "    G_1_has_isolated_component_count += has_isolated_component(G_1) # bools are treated as 0 (False) 1  (True)\n",
    "    G_2_has_isolated_component_count += has_isolated_component(G_2) # bools are treated as 0 (False) 1  (True)\n",
    "\n",
    "print(f\"p < ln(n) / n \\n% of G with isolated comp: {G_1_has_isolated_component_count / n_simulations}\")\n",
    "print(f\"p > ln(n) / n\\n% of G with isolated comp: {G_2_has_isolated_component_count / n_simulations}\")"
   ]
  },
  {
   "attachments": {},
   "cell_type": "markdown",
   "id": "d587d89c",
   "metadata": {},
   "source": [
    "Indeed it seems as though for small changes around $p = \\frac{\\ln n}{n}$ the connected- or disconectedness of the graph changes drastically. It seems as though the percent of graphs with isolated components might somehow be changing symmetrically around $p$ as we change $\\epsilon$? We investigate if this is the case for more epsilons."
   ]
  },
  {
   "cell_type": "code",
   "execution_count": 282,
   "id": "291e21f7",
   "metadata": {},
   "outputs": [],
   "source": [
    "n_simulations = 100000\n",
    "n = 15\n",
    "n_epsilons = 20\n",
    "\n",
    "results = []\n",
    "epsilon_linspace = np.linspace(1e-1, 1e-5, num=n_epsilons)\n",
    "\n",
    "for epsilon in epsilon_linspace:\n",
    "    p_1 = (np.log(n) / n) - epsilon\n",
    "    p_2 = (np.log(n) / n) + epsilon\n",
    "    \n",
    "    G_1_has_isolated_component_count = 0\n",
    "    G_2_has_isolated_component_count = 0\n",
    "    # here we simulate a number of random graphs\n",
    "    # and count the fraction of graphs with an isolated component\n",
    "    # for p < ln n / n\n",
    "    for s in range(n_simulations):\n",
    "        G_1 = erdos_renyl_rnd_graph(n, p_1)\n",
    "        G_2 = erdos_renyl_rnd_graph(n, p_2)\n",
    "        \n",
    "        G_1_has_isolated_component_count += has_isolated_component(G_1) # bools are treated as 0 (False) 1  (True)\n",
    "        G_2_has_isolated_component_count += has_isolated_component(G_2) # bools are treated as 0 (False) 1  (True)\n",
    "    results.append((G_1_has_isolated_component_count + G_2_has_isolated_component_count) / n_simulations)"
   ]
  },
  {
   "cell_type": "code",
   "execution_count": 287,
   "id": "da247916",
   "metadata": {},
   "outputs": [
    {
     "name": "stderr",
     "output_type": "stream",
     "text": [
      "No handles with labels found to put in legend.\n"
     ]
    },
    {
     "data": {
      "image/png": "[encoded data removed]",
      "text/plain": [
       "<Figure size 900x600 with 1 Axes>"
      ]
     },
     "metadata": {
      "needs_background": "light"
     },
     "output_type": "display_data"
    }
   ],
   "source": [
    "plt.figure(dpi=150)\n",
    "\n",
    "plt.plot(epsilon_linspace, results, 'r-', linewidth=1)\n",
    "plt.legend()\n",
    "plt.title(\"Measuring symmetry for changes in epsilon\")\n",
    "plt.xlabel(\"epsilon\")\n",
    "plt.ylabel(\"result\")\n",
    "plt.show()"
   ]
  },
  {
   "attachments": {},
   "cell_type": "markdown",
   "id": "9de72ea5",
   "metadata": {},
   "source": [
    "Seems to not be the case."
   ]
  },
  {
   "attachments": {},
   "cell_type": "markdown",
   "id": "aff452ba",
   "metadata": {},
   "source": [
    "# Task 3\n",
    "To calculate the global clustering coefficient of a graph, we use the formula given by wolfram. \n",
    "\n",
    "To understand the formulation, the important part is to understand that the power of the adjacency matrix represents the number of walks between the entries in the matrix. For example, the number of triangles in a graph is calculated as the trace of $\\mathbf{A}^3$ since any 3-walk that starts and ends in node $i$ forms a triangle. The number of 2-paths is calculated in a similar way, taking special care to distinguish between walks and paths.\n"
   ]
  },
  {
   "cell_type": "code",
   "execution_count": 96,
   "id": "1fc74506",
   "metadata": {},
   "outputs": [],
   "source": [
    "def cluster_coeff(G):\n",
    "    '''\n",
    "    param G: a graph \n",
    "    This function returns the global cluster coefficient\n",
    "    of a graph G calculated using its adjacency matrix  \n",
    "    '''\n",
    "    A = nx.to_numpy_array(G) # returns the adjacency matrix of G as a numpy array\n",
    "    \n",
    "    # we first calculate A^2 and store it in an array for efficiency\n",
    "    # and then calculate A^3 by using our stored A^2 and multiplying by A\n",
    "    A_squared = np.linalg.matrix_power(A, 2)\n",
    "    n_2_paths = np.sum(A_squared) - np.trace(A_squared) # sum all non-diagonal elements of A^2 \n",
    "    if n_2_paths == 0: # ensure we dont divide by 0\n",
    "        return 0\n",
    "    n_triangles = np.trace(A_squared @ A) # trace of A^3 (sum of diag elements)\n",
    "    return n_triangles / n_2_paths"
   ]
  },
  {
   "attachments": {},
   "cell_type": "markdown",
   "id": "7422d053",
   "metadata": {},
   "source": [
    "we then generate some graphs and estimate the expected clustering coefficients for some proabilities"
   ]
  },
  {
   "cell_type": "code",
   "execution_count": 111,
   "id": "be73cfde",
   "metadata": {},
   "outputs": [],
   "source": [
    "n = 100\n",
    "n_simulations = 100\n",
    "\n",
    "n_p_points = 100\n",
    "p_linspace = np.linspace(start=0, stop=1, num=n_p_points)\n",
    "y = np.zeros(n_p_points)\n",
    "for i, p in enumerate(p_linspace):\n",
    "    avg_cluster_coeff = 0\n",
    "    for _ in range(n_simulations):\n",
    "        G = erdos_renyl_rnd_graph(n, p)\n",
    "        avg_cluster_coeff += cluster_coeff(G)\n",
    "    y[i] = avg_cluster_coeff / n_simulations"
   ]
  },
  {
   "attachments": {},
   "cell_type": "markdown",
   "id": "ea3983a9",
   "metadata": {},
   "source": [
    "and plot the results"
   ]
  },
  {
   "cell_type": "code",
   "execution_count": 119,
   "id": "9f0ff6c6",
   "metadata": {},
   "outputs": [
    {
     "data": {
      "image/png": "[encoded data removed]",
      "text/plain": [
       "<Figure size 900x600 with 1 Axes>"
      ]
     },
     "metadata": {
      "needs_background": "light"
     },
     "output_type": "display_data"
    }
   ],
   "source": [
    "plt.figure(dpi=150)\n",
    "\n",
    "plt.plot(p_linspace, y, 'r-', label='expected C', linewidth=1)\n",
    "plt.plot(p_linspace, p_linspace, 'b-', label='p', linewidth=0.5)\n",
    "\n",
    "plt.legend()\n",
    "plt.title(\"Expected Cluster Coefficient v. p\")\n",
    "plt.xlabel(\"p\")\n",
    "plt.ylabel(\"Expected C\")\n",
    "plt.show()"
   ]
  },
  {
   "attachments": {},
   "cell_type": "markdown",
   "id": "cce0206d",
   "metadata": {},
   "source": [
    "Indeed, the cluster coefficient seems to roughly follow $p$"
   ]
  }
 ],
 "metadata": {
  "kernelspec": {
   "display_name": "Python 3 (ipykernel)",
   "language": "python",
   "name": "python3"
  },
  "language_info": {
   "codemirror_mode": {
    "name": "ipython",
    "version": 3
   },
   "file_extension": ".py",
   "mimetype": "text/x-python",
   "name": "python",
   "nbconvert_exporter": "python",
   "pygments_lexer": "ipython3",
   "version": "3.9.7"
  },
  "varInspector": {
   "cols": {
    "lenName": 16,
    "lenType": 16,
    "lenVar": 40
   },
   "kernels_config": {
    "python": {
     "delete_cmd_postfix": "",
     "delete_cmd_prefix": "del ",
     "library": "var_list.py",
     "varRefreshCmd": "print(var_dic_list())"
    },
    "r": {
     "delete_cmd_postfix": ") ",
     "delete_cmd_prefix": "rm(",
     "library": "var_list.r",
     "varRefreshCmd": "cat(var_dic_list()) "
    }
   },
   "types_to_exclude": [
    "module",
    "function",
    "builtin_function_or_method",
    "instance",
    "_Feature"
   ],
   "window_display": false
  }
 },
 "nbformat": 4,
 "nbformat_minor": 5
}
